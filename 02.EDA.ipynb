{
 "cells": [
  {
   "cell_type": "markdown",
   "metadata": {
    "extensions": {
     "jupyter_dashboards": {
      "version": 1,
      "views": {
       "grid_default": {},
       "report_default": {
        "hidden": false
       }
      }
     }
    }
   },
   "source": [
    "# **Analisi Margini & Ricarichi v1_0**\n",
    "## **Data Analysis Notebook**\n",
    "***A Jupyther Notebook by Cristiano Esposito - ©2019***<br><br>\n",
    "**Dalla analisi dei prezzi di listino di un catalogo, individuare le relative marginature e determinare i ricarichi da applicare al listino di vendita, per ottenere marginature pari al 20%-30%-35%**"
   ]
  },
  {
   "cell_type": "markdown",
   "metadata": {
    "extensions": {
     "jupyter_dashboards": {
      "version": 1,
      "views": {
       "grid_default": {},
       "report_default": {
        "hidden": false
       }
      }
     }
    }
   },
   "source": [
    "## **Sorgenti**\n",
    "<li>summary: File processato dal notebook 01.Data Prep</li>"
   ]
  },
  {
   "cell_type": "markdown",
   "metadata": {
    "extensions": {
     "jupyter_dashboards": {
      "version": 1,
      "views": {
       "grid_default": {},
       "report_default": {
        "hidden": false
       }
      }
     }
    }
   },
   "source": [
    "## **Changelog**\n",
    "<li>02-09-2019: Inizio del progetto</li>\n",
    "<li>03-09-2019: Inserimento origine dati</li>\n",
    "<li>04-09-2019: Ottimizzazione mining dei dati</li>"
   ]
  },
  {
   "cell_type": "markdown",
   "metadata": {
    "extensions": {
     "jupyter_dashboards": {
      "version": 1,
      "views": {
       "grid_default": {},
       "report_default": {
        "hidden": false
       }
      }
     }
    }
   },
   "source": [
    "## **Imports** \n",
    "Iniziamo importando le librerie python che andremo ad utilizzare nel progetto:<br>\n",
    "**pandas** --> caricamento e gestione dati<br>\n",
    "**numpy** --> operazioni logiche e matematiche sui dati<br>\n",
    "**pathlib** --> operazioni sulla gestione dei path di file<br>\n",
    "**datetime** --> libreria di operazioni sulle date"
   ]
  },
  {
   "cell_type": "code",
   "execution_count": 1,
   "metadata": {
    "extensions": {
     "jupyter_dashboards": {
      "version": 1,
      "views": {
       "grid_default": {},
       "report_default": {
        "hidden": true
       }
      }
     }
    }
   },
   "outputs": [],
   "source": [
    "import pandas as pd\n",
    "import numpy as np\n",
    "from pathlib import Path\n",
    "from datetime import datetime"
   ]
  },
  {
   "cell_type": "code",
   "execution_count": 2,
   "metadata": {
    "extensions": {
     "jupyter_dashboards": {
      "version": 1,
      "views": {
       "grid_default": {},
       "report_default": {
        "hidden": true
       }
      }
     }
    }
   },
   "outputs": [],
   "source": [
    "## **File Locations**"
   ]
  },
  {
   "cell_type": "code",
   "execution_count": 3,
   "metadata": {
    "extensions": {
     "jupyter_dashboards": {
      "version": 1,
      "views": {
       "grid_default": {},
       "report_default": {
        "hidden": true
       }
      }
     }
    }
   },
   "outputs": [],
   "source": [
    "# Collegamento al file esterno\n",
    "\n",
    "today = datetime.today()\n",
    "in_file = Path.cwd() / \"data\" / \"processed\" / f\"summary_listini.pkl\"\n",
    "report_dir = Path.cwd() / \"reports\"\n",
    "report_file = report_dir / f\"Ricarico_Listini_{today:%b-%d-%Y}.xlsx\""
   ]
  },
  {
   "cell_type": "markdown",
   "metadata": {
    "extensions": {
     "jupyter_dashboards": {
      "version": 1,
      "views": {
       "grid_default": {},
       "report_default": {
        "hidden": false
       }
      }
     }
    }
   },
   "source": [
    "## **Elaborazione Dati**\n",
    "In questa sezione elaboriamo i dati letti dal file per ottenere i KPI oggetto della nostra analisi"
   ]
  },
  {
   "cell_type": "code",
   "execution_count": 4,
   "metadata": {},
   "outputs": [],
   "source": [
    "# Creiamo un dataframe attraverso il file di collegamento ottenuto dal notebook precedente\n",
    "\n",
    "df = pd.read_pickle(in_file)"
   ]
  },
  {
   "cell_type": "code",
   "execution_count": 5,
   "metadata": {},
   "outputs": [
    {
     "data": {
      "text/plain": [
       "Index(['COD.FAMIGLIA WEB', 'DES.FAMIGLIA WEB', 'LISTINO  1', 'SC.1 LIS.  1',\n",
       "       'LISTINO  5', 'SC.1 LIS.  5', 'LISTINO  6', 'SC.1 LIS.  6'],\n",
       "      dtype='object')"
      ]
     },
     "execution_count": 5,
     "metadata": {},
     "output_type": "execute_result"
    }
   ],
   "source": [
    "# Controlliamo che le colonne siano corrette\n",
    "\n",
    "df.columns"
   ]
  },
  {
   "cell_type": "code",
   "execution_count": 6,
   "metadata": {},
   "outputs": [],
   "source": [
    "# Creiamo nel dataframe nuove colonne con i prezzi scontati che serviranno per il calcolo dei margini\n",
    "\n",
    "df['LISTINO1_SCONTATO'] = df['LISTINO  1'] * (1 - df['SC.1 LIS.  1'] / 100) \n",
    "df['LISTINO5_SCONTATO'] = df['LISTINO  5'] * (1 - df['SC.1 LIS.  5'] / 100)\n",
    "df['LISTINO6_SCONTATO'] = df['LISTINO  6'] * (1 - df['SC.1 LIS.  6'] / 100)"
   ]
  },
  {
   "cell_type": "code",
   "execution_count": 7,
   "metadata": {},
   "outputs": [
    {
     "data": {
      "text/html": [
       "<div>\n",
       "<style scoped>\n",
       "    .dataframe tbody tr th:only-of-type {\n",
       "        vertical-align: middle;\n",
       "    }\n",
       "\n",
       "    .dataframe tbody tr th {\n",
       "        vertical-align: top;\n",
       "    }\n",
       "\n",
       "    .dataframe thead th {\n",
       "        text-align: right;\n",
       "    }\n",
       "</style>\n",
       "<table border=\"1\" class=\"dataframe\">\n",
       "  <thead>\n",
       "    <tr style=\"text-align: right;\">\n",
       "      <th></th>\n",
       "      <th>COD.FAMIGLIA WEB</th>\n",
       "      <th>DES.FAMIGLIA WEB</th>\n",
       "      <th>LISTINO  1</th>\n",
       "      <th>SC.1 LIS.  1</th>\n",
       "      <th>LISTINO  5</th>\n",
       "      <th>SC.1 LIS.  5</th>\n",
       "      <th>LISTINO  6</th>\n",
       "      <th>SC.1 LIS.  6</th>\n",
       "      <th>LISTINO1_SCONTATO</th>\n",
       "      <th>LISTINO5_SCONTATO</th>\n",
       "      <th>LISTINO6_SCONTATO</th>\n",
       "    </tr>\n",
       "  </thead>\n",
       "  <tbody>\n",
       "    <tr>\n",
       "      <th>0</th>\n",
       "      <td>A27</td>\n",
       "      <td>Sanitari</td>\n",
       "      <td>103.7561</td>\n",
       "      <td>0.0</td>\n",
       "      <td>115.5677</td>\n",
       "      <td>0.0</td>\n",
       "      <td>138.6812</td>\n",
       "      <td>0.0</td>\n",
       "      <td>103.7561</td>\n",
       "      <td>115.5677</td>\n",
       "      <td>138.6812</td>\n",
       "    </tr>\n",
       "    <tr>\n",
       "      <th>1</th>\n",
       "      <td>A27</td>\n",
       "      <td>Sanitari</td>\n",
       "      <td>226.6082</td>\n",
       "      <td>0.0</td>\n",
       "      <td>252.4052</td>\n",
       "      <td>0.0</td>\n",
       "      <td>302.8862</td>\n",
       "      <td>0.0</td>\n",
       "      <td>226.6082</td>\n",
       "      <td>252.4052</td>\n",
       "      <td>302.8862</td>\n",
       "    </tr>\n",
       "    <tr>\n",
       "      <th>2</th>\n",
       "      <td>144</td>\n",
       "      <td>Filtro e Raccordi Gas</td>\n",
       "      <td>0.3000</td>\n",
       "      <td>0.0</td>\n",
       "      <td>0.3543</td>\n",
       "      <td>0.0</td>\n",
       "      <td>0.4252</td>\n",
       "      <td>0.0</td>\n",
       "      <td>0.3000</td>\n",
       "      <td>0.3543</td>\n",
       "      <td>0.4252</td>\n",
       "    </tr>\n",
       "    <tr>\n",
       "      <th>3</th>\n",
       "      <td>144</td>\n",
       "      <td>Filtro e Raccordi Gas</td>\n",
       "      <td>0.5625</td>\n",
       "      <td>0.0</td>\n",
       "      <td>0.6641</td>\n",
       "      <td>0.0</td>\n",
       "      <td>0.7969</td>\n",
       "      <td>0.0</td>\n",
       "      <td>0.5625</td>\n",
       "      <td>0.6641</td>\n",
       "      <td>0.7969</td>\n",
       "    </tr>\n",
       "    <tr>\n",
       "      <th>4</th>\n",
       "      <td>924</td>\n",
       "      <td>Piatti Doccia</td>\n",
       "      <td>28.7500</td>\n",
       "      <td>0.0</td>\n",
       "      <td>33.2851</td>\n",
       "      <td>0.0</td>\n",
       "      <td>36.6136</td>\n",
       "      <td>0.0</td>\n",
       "      <td>28.7500</td>\n",
       "      <td>33.2851</td>\n",
       "      <td>36.6136</td>\n",
       "    </tr>\n",
       "    <tr>\n",
       "      <th>...</th>\n",
       "      <td>...</td>\n",
       "      <td>...</td>\n",
       "      <td>...</td>\n",
       "      <td>...</td>\n",
       "      <td>...</td>\n",
       "      <td>...</td>\n",
       "      <td>...</td>\n",
       "      <td>...</td>\n",
       "      <td>...</td>\n",
       "      <td>...</td>\n",
       "      <td>...</td>\n",
       "    </tr>\n",
       "    <tr>\n",
       "      <th>6083</th>\n",
       "      <td>475</td>\n",
       "      <td>Contatori e Accessori</td>\n",
       "      <td>5.2360</td>\n",
       "      <td>0.0</td>\n",
       "      <td>6.3644</td>\n",
       "      <td>0.0</td>\n",
       "      <td>7.0008</td>\n",
       "      <td>0.0</td>\n",
       "      <td>5.2360</td>\n",
       "      <td>6.3644</td>\n",
       "      <td>7.0008</td>\n",
       "    </tr>\n",
       "    <tr>\n",
       "      <th>6084</th>\n",
       "      <td>144</td>\n",
       "      <td>Filtro e Raccordi Gas</td>\n",
       "      <td>5.9840</td>\n",
       "      <td>0.0</td>\n",
       "      <td>7.2737</td>\n",
       "      <td>0.0</td>\n",
       "      <td>8.0011</td>\n",
       "      <td>0.0</td>\n",
       "      <td>5.9840</td>\n",
       "      <td>7.2737</td>\n",
       "      <td>8.0011</td>\n",
       "    </tr>\n",
       "    <tr>\n",
       "      <th>6085</th>\n",
       "      <td>235</td>\n",
       "      <td>Termocamino</td>\n",
       "      <td>12.2183</td>\n",
       "      <td>0.0</td>\n",
       "      <td>14.8514</td>\n",
       "      <td>0.0</td>\n",
       "      <td>17.8217</td>\n",
       "      <td>0.0</td>\n",
       "      <td>12.2183</td>\n",
       "      <td>14.8514</td>\n",
       "      <td>17.8217</td>\n",
       "    </tr>\n",
       "    <tr>\n",
       "      <th>6086</th>\n",
       "      <td>235</td>\n",
       "      <td>Termocamino</td>\n",
       "      <td>19.0118</td>\n",
       "      <td>0.0</td>\n",
       "      <td>23.1089</td>\n",
       "      <td>0.0</td>\n",
       "      <td>27.7307</td>\n",
       "      <td>0.0</td>\n",
       "      <td>19.0118</td>\n",
       "      <td>23.1089</td>\n",
       "      <td>27.7307</td>\n",
       "    </tr>\n",
       "    <tr>\n",
       "      <th>6087</th>\n",
       "      <td>235</td>\n",
       "      <td>Termocamino</td>\n",
       "      <td>25.0820</td>\n",
       "      <td>0.0</td>\n",
       "      <td>30.4873</td>\n",
       "      <td>0.0</td>\n",
       "      <td>33.5360</td>\n",
       "      <td>0.0</td>\n",
       "      <td>25.0820</td>\n",
       "      <td>30.4873</td>\n",
       "      <td>33.5360</td>\n",
       "    </tr>\n",
       "  </tbody>\n",
       "</table>\n",
       "<p>6088 rows × 11 columns</p>\n",
       "</div>"
      ],
      "text/plain": [
       "     COD.FAMIGLIA WEB           DES.FAMIGLIA WEB  LISTINO  1  SC.1 LIS.  1  \\\n",
       "0                 A27  Sanitari                     103.7561           0.0   \n",
       "1                 A27  Sanitari                     226.6082           0.0   \n",
       "2                 144  Filtro e Raccordi Gas          0.3000           0.0   \n",
       "3                 144  Filtro e Raccordi Gas          0.5625           0.0   \n",
       "4                 924  Piatti Doccia                 28.7500           0.0   \n",
       "...               ...                        ...         ...           ...   \n",
       "6083              475  Contatori e Accessori          5.2360           0.0   \n",
       "6084              144  Filtro e Raccordi Gas          5.9840           0.0   \n",
       "6085              235  Termocamino                   12.2183           0.0   \n",
       "6086              235  Termocamino                   19.0118           0.0   \n",
       "6087              235  Termocamino                   25.0820           0.0   \n",
       "\n",
       "      LISTINO  5  SC.1 LIS.  5  LISTINO  6  SC.1 LIS.  6  LISTINO1_SCONTATO  \\\n",
       "0       115.5677           0.0    138.6812           0.0           103.7561   \n",
       "1       252.4052           0.0    302.8862           0.0           226.6082   \n",
       "2         0.3543           0.0      0.4252           0.0             0.3000   \n",
       "3         0.6641           0.0      0.7969           0.0             0.5625   \n",
       "4        33.2851           0.0     36.6136           0.0            28.7500   \n",
       "...          ...           ...         ...           ...                ...   \n",
       "6083      6.3644           0.0      7.0008           0.0             5.2360   \n",
       "6084      7.2737           0.0      8.0011           0.0             5.9840   \n",
       "6085     14.8514           0.0     17.8217           0.0            12.2183   \n",
       "6086     23.1089           0.0     27.7307           0.0            19.0118   \n",
       "6087     30.4873           0.0     33.5360           0.0            25.0820   \n",
       "\n",
       "      LISTINO5_SCONTATO  LISTINO6_SCONTATO  \n",
       "0              115.5677           138.6812  \n",
       "1              252.4052           302.8862  \n",
       "2                0.3543             0.4252  \n",
       "3                0.6641             0.7969  \n",
       "4               33.2851            36.6136  \n",
       "...                 ...                ...  \n",
       "6083             6.3644             7.0008  \n",
       "6084             7.2737             8.0011  \n",
       "6085            14.8514            17.8217  \n",
       "6086            23.1089            27.7307  \n",
       "6087            30.4873            33.5360  \n",
       "\n",
       "[6088 rows x 11 columns]"
      ]
     },
     "execution_count": 7,
     "metadata": {},
     "output_type": "execute_result"
    }
   ],
   "source": [
    "df"
   ]
  },
  {
   "cell_type": "code",
   "execution_count": 8,
   "metadata": {},
   "outputs": [],
   "source": [
    "# Creiamo due tabelle pivot con la somma e la media delle colonne dei listini, raggruppando i dati in per categoria merceologica\n",
    "\n",
    "listini_sum = pd.pivot_table(df, index=[df['COD.FAMIGLIA WEB'], df['DES.FAMIGLIA WEB']], values=['DES.FAMIGLIA WEB', 'LISTINO1_SCONTATO', 'LISTINO5_SCONTATO', 'LISTINO6_SCONTATO'], aggfunc='sum')\n",
    "listini_mean = pd.pivot_table(df, index=[df['COD.FAMIGLIA WEB'], df['DES.FAMIGLIA WEB']], values=['DES.FAMIGLIA WEB', 'LISTINO1_SCONTATO', 'LISTINO5_SCONTATO', 'LISTINO6_SCONTATO'], aggfunc='mean')"
   ]
  },
  {
   "cell_type": "code",
   "execution_count": 9,
   "metadata": {},
   "outputs": [],
   "source": [
    "# Andiamo a trovare i margini dei listini che sono oggetto di analisi, secondo la formula\n",
    "# MARGINE_PERC = (1 - PREZZO_COSTO / PREZZO_LISTINO) * 100\n",
    "\n",
    "listini_sum['MARGINE_LISTINO5'] = round((1 - listini_sum['LISTINO1_SCONTATO'] / listini_sum['LISTINO5_SCONTATO']) * 100, 2)\n",
    "listini_sum['MARGINE_LISTINO6'] = round((1 - listini_sum['LISTINO1_SCONTATO'] / listini_sum['LISTINO6_SCONTATO']) * 100, 2)"
   ]
  },
  {
   "cell_type": "code",
   "execution_count": 10,
   "metadata": {},
   "outputs": [],
   "source": [
    "# Passiamo quindi a calcolare i ricarichi per ottenere i margini desiderati, secondo la formula\n",
    "# RICARICO_PERC = (PREZZO_COSTO - (1 - MARGINE_DESIDERATO / 100) * PREZZO_LISTINO) / ((1 - MARGINE_DESIDERATO / 100) * PREZZO_LISTINO) * 100\n",
    "\n",
    "# Su listino 5\n",
    "listini_sum['RIC_20_LIST_5'] = round((listini_sum['LISTINO1_SCONTATO'] - 0.80 * listini_sum['LISTINO5_SCONTATO']) / (0.80 * listini_sum['LISTINO5_SCONTATO']) * 100, 0) #margine obiettivo del 20%\n",
    "listini_sum['RIC_30_LIST_5'] = round((listini_sum['LISTINO1_SCONTATO'] - 0.70 * listini_sum['LISTINO5_SCONTATO']) / (0.70 * listini_sum['LISTINO5_SCONTATO']) * 100, 0) #margine obiettivo del 30%\n",
    "listini_sum['RIC_35_LIST_5'] = round((listini_sum['LISTINO1_SCONTATO'] - 0.65 * listini_sum['LISTINO5_SCONTATO']) / (0.65 * listini_sum['LISTINO5_SCONTATO']) * 100, 0) #margine obiettivo del 35%\n",
    "\n",
    "# Su listino 6\n",
    "listini_sum['RIC_20_LIST_6'] = round((listini_sum['LISTINO1_SCONTATO'] - 0.80 * listini_sum['LISTINO6_SCONTATO']) / (0.80 * listini_sum['LISTINO6_SCONTATO']) * 100, 0) #margine obiettivo del 20%\n",
    "listini_sum['RIC_30_LIST_6'] = round((listini_sum['LISTINO1_SCONTATO'] - 0.70 * listini_sum['LISTINO6_SCONTATO']) / (0.70 * listini_sum['LISTINO6_SCONTATO']) * 100, 0) #margine obiettivo del 30%\n",
    "listini_sum['RIC_35_LIST_6'] = round((listini_sum['LISTINO1_SCONTATO'] - 0.65 * listini_sum['LISTINO6_SCONTATO']) / (0.65 * listini_sum['LISTINO6_SCONTATO']) * 100, 0) #margine obiettivo del 35%"
   ]
  },
  {
   "cell_type": "code",
   "execution_count": 11,
   "metadata": {},
   "outputs": [
    {
     "data": {
      "text/html": [
       "<div>\n",
       "<style scoped>\n",
       "    .dataframe tbody tr th:only-of-type {\n",
       "        vertical-align: middle;\n",
       "    }\n",
       "\n",
       "    .dataframe tbody tr th {\n",
       "        vertical-align: top;\n",
       "    }\n",
       "\n",
       "    .dataframe thead th {\n",
       "        text-align: right;\n",
       "    }\n",
       "</style>\n",
       "<table border=\"1\" class=\"dataframe\">\n",
       "  <thead>\n",
       "    <tr style=\"text-align: right;\">\n",
       "      <th></th>\n",
       "      <th></th>\n",
       "      <th>LISTINO1_SCONTATO</th>\n",
       "      <th>LISTINO5_SCONTATO</th>\n",
       "      <th>LISTINO6_SCONTATO</th>\n",
       "      <th>MARGINE_LISTINO5</th>\n",
       "      <th>MARGINE_LISTINO6</th>\n",
       "      <th>RIC_20_LIST_5</th>\n",
       "      <th>RIC_30_LIST_5</th>\n",
       "      <th>RIC_35_LIST_5</th>\n",
       "      <th>RIC_20_LIST_6</th>\n",
       "      <th>RIC_30_LIST_6</th>\n",
       "      <th>RIC_35_LIST_6</th>\n",
       "    </tr>\n",
       "    <tr>\n",
       "      <th>COD.FAMIGLIA WEB</th>\n",
       "      <th>DES.FAMIGLIA WEB</th>\n",
       "      <th></th>\n",
       "      <th></th>\n",
       "      <th></th>\n",
       "      <th></th>\n",
       "      <th></th>\n",
       "      <th></th>\n",
       "      <th></th>\n",
       "      <th></th>\n",
       "      <th></th>\n",
       "      <th></th>\n",
       "      <th></th>\n",
       "    </tr>\n",
       "  </thead>\n",
       "  <tbody>\n",
       "    <tr>\n",
       "      <th>001</th>\n",
       "      <th>Collettori per Sanitari</th>\n",
       "      <td>330.499200</td>\n",
       "      <td>385.95520</td>\n",
       "      <td>443.748200</td>\n",
       "      <td>14.37</td>\n",
       "      <td>25.52</td>\n",
       "      <td>7.0</td>\n",
       "      <td>22.0</td>\n",
       "      <td>32.0</td>\n",
       "      <td>-7.0</td>\n",
       "      <td>6.0</td>\n",
       "      <td>15.0</td>\n",
       "    </tr>\n",
       "    <tr>\n",
       "      <th>003</th>\n",
       "      <th>Accessori Collettori</th>\n",
       "      <td>4.035800</td>\n",
       "      <td>4.71100</td>\n",
       "      <td>5.377200</td>\n",
       "      <td>14.33</td>\n",
       "      <td>24.95</td>\n",
       "      <td>7.0</td>\n",
       "      <td>22.0</td>\n",
       "      <td>32.0</td>\n",
       "      <td>-6.0</td>\n",
       "      <td>7.0</td>\n",
       "      <td>15.0</td>\n",
       "    </tr>\n",
       "    <tr>\n",
       "      <th>004</th>\n",
       "      <th>Collettore Riscaldamento</th>\n",
       "      <td>549.835100</td>\n",
       "      <td>648.04370</td>\n",
       "      <td>756.363400</td>\n",
       "      <td>15.15</td>\n",
       "      <td>27.31</td>\n",
       "      <td>6.0</td>\n",
       "      <td>21.0</td>\n",
       "      <td>31.0</td>\n",
       "      <td>-9.0</td>\n",
       "      <td>4.0</td>\n",
       "      <td>12.0</td>\n",
       "    </tr>\n",
       "    <tr>\n",
       "      <th>005</th>\n",
       "      <th>Collettori per Contatori</th>\n",
       "      <td>378.822500</td>\n",
       "      <td>438.53450</td>\n",
       "      <td>504.314800</td>\n",
       "      <td>13.62</td>\n",
       "      <td>24.88</td>\n",
       "      <td>8.0</td>\n",
       "      <td>23.0</td>\n",
       "      <td>33.0</td>\n",
       "      <td>-6.0</td>\n",
       "      <td>7.0</td>\n",
       "      <td>16.0</td>\n",
       "    </tr>\n",
       "    <tr>\n",
       "      <th>006</th>\n",
       "      <th>Collettori Refrigerazione</th>\n",
       "      <td>114.611200</td>\n",
       "      <td>139.31060</td>\n",
       "      <td>167.172700</td>\n",
       "      <td>17.73</td>\n",
       "      <td>31.44</td>\n",
       "      <td>3.0</td>\n",
       "      <td>18.0</td>\n",
       "      <td>27.0</td>\n",
       "      <td>-14.0</td>\n",
       "      <td>-2.0</td>\n",
       "      <td>5.0</td>\n",
       "    </tr>\n",
       "    <tr>\n",
       "      <th>...</th>\n",
       "      <th>...</th>\n",
       "      <td>...</td>\n",
       "      <td>...</td>\n",
       "      <td>...</td>\n",
       "      <td>...</td>\n",
       "      <td>...</td>\n",
       "      <td>...</td>\n",
       "      <td>...</td>\n",
       "      <td>...</td>\n",
       "      <td>...</td>\n",
       "      <td>...</td>\n",
       "      <td>...</td>\n",
       "    </tr>\n",
       "    <tr>\n",
       "      <th>C55</th>\n",
       "      <th>Accessori Sanitari</th>\n",
       "      <td>140.027224</td>\n",
       "      <td>163.53762</td>\n",
       "      <td>186.028188</td>\n",
       "      <td>14.38</td>\n",
       "      <td>24.73</td>\n",
       "      <td>7.0</td>\n",
       "      <td>22.0</td>\n",
       "      <td>32.0</td>\n",
       "      <td>-6.0</td>\n",
       "      <td>8.0</td>\n",
       "      <td>16.0</td>\n",
       "    </tr>\n",
       "    <tr>\n",
       "      <th>C56</th>\n",
       "      <th>Tappo Piletta</th>\n",
       "      <td>4.363900</td>\n",
       "      <td>5.30440</td>\n",
       "      <td>5.834800</td>\n",
       "      <td>17.73</td>\n",
       "      <td>25.21</td>\n",
       "      <td>3.0</td>\n",
       "      <td>18.0</td>\n",
       "      <td>27.0</td>\n",
       "      <td>-7.0</td>\n",
       "      <td>7.0</td>\n",
       "      <td>15.0</td>\n",
       "    </tr>\n",
       "    <tr>\n",
       "      <th>C88</th>\n",
       "      <th>Accessori per Lavoro</th>\n",
       "      <td>284.915200</td>\n",
       "      <td>349.49060</td>\n",
       "      <td>379.942100</td>\n",
       "      <td>18.48</td>\n",
       "      <td>25.01</td>\n",
       "      <td>2.0</td>\n",
       "      <td>16.0</td>\n",
       "      <td>25.0</td>\n",
       "      <td>-6.0</td>\n",
       "      <td>7.0</td>\n",
       "      <td>15.0</td>\n",
       "    </tr>\n",
       "    <tr>\n",
       "      <th>C89</th>\n",
       "      <th>Cassetta Primo Soccorso</th>\n",
       "      <td>108.268050</td>\n",
       "      <td>127.38291</td>\n",
       "      <td>140.121890</td>\n",
       "      <td>15.01</td>\n",
       "      <td>22.73</td>\n",
       "      <td>6.0</td>\n",
       "      <td>21.0</td>\n",
       "      <td>31.0</td>\n",
       "      <td>-3.0</td>\n",
       "      <td>10.0</td>\n",
       "      <td>19.0</td>\n",
       "    </tr>\n",
       "    <tr>\n",
       "      <th>C91</th>\n",
       "      <th>Abbigliamento da Lavoro</th>\n",
       "      <td>11.089000</td>\n",
       "      <td>14.56690</td>\n",
       "      <td>15.407700</td>\n",
       "      <td>23.88</td>\n",
       "      <td>28.03</td>\n",
       "      <td>-5.0</td>\n",
       "      <td>9.0</td>\n",
       "      <td>17.0</td>\n",
       "      <td>-10.0</td>\n",
       "      <td>3.0</td>\n",
       "      <td>11.0</td>\n",
       "    </tr>\n",
       "  </tbody>\n",
       "</table>\n",
       "<p>298 rows × 11 columns</p>\n",
       "</div>"
      ],
      "text/plain": [
       "                                            LISTINO1_SCONTATO  \\\n",
       "COD.FAMIGLIA WEB DES.FAMIGLIA WEB                               \n",
       "001              Collettori per Sanitari           330.499200   \n",
       "003              Accessori Collettori                4.035800   \n",
       "004              Collettore Riscaldamento          549.835100   \n",
       "005              Collettori per Contatori          378.822500   \n",
       "006              Collettori Refrigerazione         114.611200   \n",
       "...                                                       ...   \n",
       "C55              Accessori Sanitari                140.027224   \n",
       "C56              Tappo Piletta                       4.363900   \n",
       "C88              Accessori per Lavoro              284.915200   \n",
       "C89              Cassetta Primo Soccorso           108.268050   \n",
       "C91              Abbigliamento da Lavoro            11.089000   \n",
       "\n",
       "                                            LISTINO5_SCONTATO  \\\n",
       "COD.FAMIGLIA WEB DES.FAMIGLIA WEB                               \n",
       "001              Collettori per Sanitari            385.95520   \n",
       "003              Accessori Collettori                 4.71100   \n",
       "004              Collettore Riscaldamento           648.04370   \n",
       "005              Collettori per Contatori           438.53450   \n",
       "006              Collettori Refrigerazione          139.31060   \n",
       "...                                                       ...   \n",
       "C55              Accessori Sanitari                 163.53762   \n",
       "C56              Tappo Piletta                        5.30440   \n",
       "C88              Accessori per Lavoro               349.49060   \n",
       "C89              Cassetta Primo Soccorso            127.38291   \n",
       "C91              Abbigliamento da Lavoro             14.56690   \n",
       "\n",
       "                                            LISTINO6_SCONTATO  \\\n",
       "COD.FAMIGLIA WEB DES.FAMIGLIA WEB                               \n",
       "001              Collettori per Sanitari           443.748200   \n",
       "003              Accessori Collettori                5.377200   \n",
       "004              Collettore Riscaldamento          756.363400   \n",
       "005              Collettori per Contatori          504.314800   \n",
       "006              Collettori Refrigerazione         167.172700   \n",
       "...                                                       ...   \n",
       "C55              Accessori Sanitari                186.028188   \n",
       "C56              Tappo Piletta                       5.834800   \n",
       "C88              Accessori per Lavoro              379.942100   \n",
       "C89              Cassetta Primo Soccorso           140.121890   \n",
       "C91              Abbigliamento da Lavoro            15.407700   \n",
       "\n",
       "                                            MARGINE_LISTINO5  \\\n",
       "COD.FAMIGLIA WEB DES.FAMIGLIA WEB                              \n",
       "001              Collettori per Sanitari               14.37   \n",
       "003              Accessori Collettori                  14.33   \n",
       "004              Collettore Riscaldamento              15.15   \n",
       "005              Collettori per Contatori              13.62   \n",
       "006              Collettori Refrigerazione             17.73   \n",
       "...                                                      ...   \n",
       "C55              Accessori Sanitari                    14.38   \n",
       "C56              Tappo Piletta                         17.73   \n",
       "C88              Accessori per Lavoro                  18.48   \n",
       "C89              Cassetta Primo Soccorso               15.01   \n",
       "C91              Abbigliamento da Lavoro               23.88   \n",
       "\n",
       "                                            MARGINE_LISTINO6  RIC_20_LIST_5  \\\n",
       "COD.FAMIGLIA WEB DES.FAMIGLIA WEB                                             \n",
       "001              Collettori per Sanitari               25.52            7.0   \n",
       "003              Accessori Collettori                  24.95            7.0   \n",
       "004              Collettore Riscaldamento              27.31            6.0   \n",
       "005              Collettori per Contatori              24.88            8.0   \n",
       "006              Collettori Refrigerazione             31.44            3.0   \n",
       "...                                                      ...            ...   \n",
       "C55              Accessori Sanitari                    24.73            7.0   \n",
       "C56              Tappo Piletta                         25.21            3.0   \n",
       "C88              Accessori per Lavoro                  25.01            2.0   \n",
       "C89              Cassetta Primo Soccorso               22.73            6.0   \n",
       "C91              Abbigliamento da Lavoro               28.03           -5.0   \n",
       "\n",
       "                                            RIC_30_LIST_5  RIC_35_LIST_5  \\\n",
       "COD.FAMIGLIA WEB DES.FAMIGLIA WEB                                          \n",
       "001              Collettori per Sanitari             22.0           32.0   \n",
       "003              Accessori Collettori                22.0           32.0   \n",
       "004              Collettore Riscaldamento            21.0           31.0   \n",
       "005              Collettori per Contatori            23.0           33.0   \n",
       "006              Collettori Refrigerazione           18.0           27.0   \n",
       "...                                                   ...            ...   \n",
       "C55              Accessori Sanitari                  22.0           32.0   \n",
       "C56              Tappo Piletta                       18.0           27.0   \n",
       "C88              Accessori per Lavoro                16.0           25.0   \n",
       "C89              Cassetta Primo Soccorso             21.0           31.0   \n",
       "C91              Abbigliamento da Lavoro              9.0           17.0   \n",
       "\n",
       "                                            RIC_20_LIST_6  RIC_30_LIST_6  \\\n",
       "COD.FAMIGLIA WEB DES.FAMIGLIA WEB                                          \n",
       "001              Collettori per Sanitari             -7.0            6.0   \n",
       "003              Accessori Collettori                -6.0            7.0   \n",
       "004              Collettore Riscaldamento            -9.0            4.0   \n",
       "005              Collettori per Contatori            -6.0            7.0   \n",
       "006              Collettori Refrigerazione          -14.0           -2.0   \n",
       "...                                                   ...            ...   \n",
       "C55              Accessori Sanitari                  -6.0            8.0   \n",
       "C56              Tappo Piletta                       -7.0            7.0   \n",
       "C88              Accessori per Lavoro                -6.0            7.0   \n",
       "C89              Cassetta Primo Soccorso             -3.0           10.0   \n",
       "C91              Abbigliamento da Lavoro            -10.0            3.0   \n",
       "\n",
       "                                            RIC_35_LIST_6  \n",
       "COD.FAMIGLIA WEB DES.FAMIGLIA WEB                          \n",
       "001              Collettori per Sanitari             15.0  \n",
       "003              Accessori Collettori                15.0  \n",
       "004              Collettore Riscaldamento            12.0  \n",
       "005              Collettori per Contatori            16.0  \n",
       "006              Collettori Refrigerazione            5.0  \n",
       "...                                                   ...  \n",
       "C55              Accessori Sanitari                  16.0  \n",
       "C56              Tappo Piletta                       15.0  \n",
       "C88              Accessori per Lavoro                15.0  \n",
       "C89              Cassetta Primo Soccorso             19.0  \n",
       "C91              Abbigliamento da Lavoro             11.0  \n",
       "\n",
       "[298 rows x 11 columns]"
      ]
     },
     "execution_count": 11,
     "metadata": {},
     "output_type": "execute_result"
    }
   ],
   "source": [
    "listini_sum"
   ]
  },
  {
   "cell_type": "code",
   "execution_count": 12,
   "metadata": {},
   "outputs": [],
   "source": [
    "# Copiamo i dati così ottenuti in nuovi dataframes\n",
    "\n",
    "margini = listini_sum[['MARGINE_LISTINO5', 'MARGINE_LISTINO6']].copy()\n",
    "ricarichi_list5 = listini_sum[['RIC_20_LIST_5', 'RIC_30_LIST_5', 'RIC_35_LIST_5']].copy()\n",
    "ricarichi_list6 = listini_sum[['RIC_20_LIST_6', 'RIC_30_LIST_6', 'RIC_35_LIST_6']].copy()"
   ]
  },
  {
   "cell_type": "code",
   "execution_count": 13,
   "metadata": {},
   "outputs": [],
   "source": [
    "# Esportiamo i dati in un file Excel salvato localmente\n",
    "writer = pd.ExcelWriter(report_file, engine='xlsxwriter')\n",
    "margini.to_excel(writer, sheet_name='Margini')\n",
    "ricarichi_list5.to_excel(writer, sheet_name='Ricarichi_LIST_5')\n",
    "ricarichi_list6.to_excel(writer, sheet_name='Ricarichi_LIST_6')\n",
    "writer.save()"
   ]
  }
 ],
 "metadata": {
  "extensions": {
   "jupyter_dashboards": {
    "activeView": "report_default",
    "version": 1,
    "views": {
     "grid_default": {
      "name": "grid",
      "type": "grid"
     },
     "report_default": {
      "name": "report",
      "type": "report"
     }
    }
   }
  },
  "kernelspec": {
   "display_name": "Python 3",
   "language": "python",
   "name": "python3"
  },
  "language_info": {
   "codemirror_mode": {
    "name": "ipython",
    "version": 3
   },
   "file_extension": ".py",
   "mimetype": "text/x-python",
   "name": "python",
   "nbconvert_exporter": "python",
   "pygments_lexer": "ipython3",
   "version": "3.8.5"
  }
 },
 "nbformat": 4,
 "nbformat_minor": 4
}
